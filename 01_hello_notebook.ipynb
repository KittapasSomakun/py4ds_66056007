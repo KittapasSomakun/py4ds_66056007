{
 "cells": [
  {
   "cell_type": "markdown",
   "source": [
    "# Jupyter Notebook Shortcuts"
   ],
   "metadata": {
    "collapsed": false
   },
   "id": "3d5576b28c145fcb"
  },
  {
   "cell_type": "markdown",
   "source": [
    "**Jupyter Notebook** มี input mode 2 modes ได้แก่ **Commmand Mode** และ **Edit Mode** ใครเคยใช้ `vim` มาก่อน ก็จะเข้าใจได้เลยทันที ส่วนใครไม่เคยใช้ `vim` text editor มาก่อน ก็ควรใช้เวลาสัก 2-3 ชม หัดพื้นฐานของ text editor ตัวนี้ดูครับ **แนะนำอย่างยิ่ง**\n",
    "\n",
    "เราสลับไปมาระหว่าง 2 โหมดนี้่ได้ด้วย `[Esc]` และ `[Enter]` คีย์ และสังเกต**สีด้านซ้ายของ cell** ด้วย ว่าเป็น **สีเขียว** หรือเป็น **สีฟ้า**"
   ],
   "metadata": {
    "collapsed": false
   },
   "id": "e333b91eec7ea9c9"
  },
  {
   "cell_type": "markdown",
   "source": [
    "## Jupyter Notebook Command Mode Shortcuts"
   ],
   "metadata": {
    "collapsed": false
   },
   "id": "2a3d6ca9719b3a70"
  },
  {
   "cell_type": "markdown",
   "source": [
    "**Command mode**  ช็อตคัตใน edit mode มีที่สำคัญดังนี้:\n",
    "\n",
    "* `Arrow Up/Arrow Down` : Navigate between cells\n",
    "* `A`: Insert a new cell above the current cell.\n",
    "* `B`: Insert a new cell below the current cell.\n",
    "* `C`: Copy the selected cell.\n",
    "* `V`: Paste the copied cell below the current cell.\n",
    "* `D`: Delete the selected cell.\n",
    "* `Z`: Undo the last cell operation.\n",
    "* `M`: Convert the selected cell to a markdown cell.\n",
    "* `Y`: Convert the selected cell to a code cell.\n",
    "* `Shift` + `Arrow Up/Arrow Down`: Select multiple cells.\n",
    "* `Shift` + `M`: Merge selected cells.\n",
    "* `Shift` + `Enter` : Run the current cell and move the cursor to the next cell.\n",
    "* `Ctrl` + `Enter` : Run the current cell without moving the cursor.\n",
    "* `Alt` + `Arrow Up/Arrow Down`: Move current cell up or down"
   ],
   "metadata": {
    "collapsed": false
   },
   "id": "7cfe96c6c28da542"
  },
  {
   "cell_type": "markdown",
   "source": [
    "## Jupyter Notebook Edit Mode Shortcuts\n",
    "\n",
    "**Edit mode** ช็อตคัตใน edit mode มีที่สำคัญดังนี้:\n",
    "\n",
    "* `Tab`: Code completion or indent.\n",
    "* `Ctrl` + `Shift` + `–`: Split the current cell at the cursor.\n",
    "* `Ctrl` + `]`: Indent.\n",
    "* `Ctrl` + `[`: Dedent.\n",
    "* `Ctrl` + `A`: Select all.\n",
    "* `Ctrl` + `Z`: Undo.\n",
    "* `Ctrl` + `Y`: Redo.\n",
    "* `Ctrl` + `Home`: Go to cell start.\n",
    "* `Ctrl` + `End`: Go to cell end.\n"
   ],
   "metadata": {
    "collapsed": false
   },
   "id": "1509cde40919b775"
  },
  {
   "cell_type": "markdown",
   "source": [
    "**Tips**\n",
    "\n",
    "* คลิกด้านซ้ายของ cell (ตรงช่องว่างเหมือนย่อหน้า) select cell\n",
    "* คลิก `...` ที่ด้านหลัง Output สามารถเคลียร์ผลลัพธ์ได้\n",
    "* เคลียร์ outputs ทั้งหมด ให้ทำที่ toolbar ปุ่มไม้กวาด\n",
    "* หากมีปัญหา เราสามารถ **Run All** หรือ **Restart Kernel** ได้ จาก toolbar เช่นกัน"
   ],
   "metadata": {
    "collapsed": false
   },
   "id": "3f1c8cfc41970c83"
  },
  {
   "cell_type": "code",
   "execution_count": 1,
   "outputs": [],
   "source": [
    "# TODO - จงฝึกหัดใช้ command shortcuts ด้านบนให้คล่องแคล่ว"
   ],
   "metadata": {
    "collapsed": false,
    "ExecuteTime": {
     "start_time": "2023-10-01T04:04:24.391461Z"
    }
   },
   "id": "8f6e5cb120b6514c"
  },
  {
   "cell_type": "markdown",
   "source": [
    "## Command Line Interface (CLI)\n",
    "\n",
    "เราสามารถเรียก **command line** ขึ้นมาใช้งานใน `code cell` ได้ โดยการใช้ **`%`** นำหน้า"
   ],
   "metadata": {
    "collapsed": false
   },
   "id": "e960012b4449c47"
  },
  {
   "cell_type": "code",
   "execution_count": 2,
   "outputs": [
    {
     "name": "stdout",
     "output_type": "stream",
     "text": [
      "total 40\r\n",
      "-rw-r--r--@ 1 11369808  786706264  5572 Oct  1 11:04 01_hello_notebook.ipynb\r\n",
      "-rw-r--r--@ 1 11369808  786706264    23 Oct  1 11:00 hello.py\r\n",
      "-rw-r--r--@ 1 11369808  786706264  3294 Oct  1 10:30 readme.md\r\n",
      "-rw-r--r--@ 1 11369808  786706264  2711 Oct  1 10:27 requirements.txt\r\n"
     ]
    }
   ],
   "source": [
    "%ls -l"
   ],
   "metadata": {
    "collapsed": false,
    "ExecuteTime": {
     "start_time": "2023-10-01T04:04:24.399820Z"
    }
   },
   "id": "e3fe3b76b31c93ea"
  },
  {
   "cell_type": "code",
   "execution_count": 3,
   "outputs": [
    {
     "data": {
      "text/plain": "'/Users/11369808/DataspellProjects/py4ds_66056007'"
     },
     "execution_count": 3,
     "metadata": {},
     "output_type": "execute_result"
    }
   ],
   "source": [
    "%pwd"
   ],
   "metadata": {
    "collapsed": false,
    "ExecuteTime": {
     "start_time": "2023-10-01T04:04:27.748696Z"
    }
   },
   "id": "9f72790a30a5d7bb"
  },
  {
   "cell_type": "code",
   "execution_count": 4,
   "outputs": [
    {
     "name": "stdout",
     "output_type": "stream",
     "text": [
      "Requirement already satisfied: alabaster==0.7.13 in ./.venv/lib/python3.11/site-packages (from -r requirements.txt (line 1)) (0.7.13)\r\n",
      "Requirement already satisfied: anyio==4.0.0 in ./.venv/lib/python3.11/site-packages (from -r requirements.txt (line 2)) (4.0.0)\r\n",
      "Requirement already satisfied: appnope==0.1.3 in ./.venv/lib/python3.11/site-packages (from -r requirements.txt (line 3)) (0.1.3)\r\n",
      "Requirement already satisfied: argon2-cffi==23.1.0 in ./.venv/lib/python3.11/site-packages (from -r requirements.txt (line 4)) (23.1.0)\r\n",
      "Requirement already satisfied: argon2-cffi-bindings==21.2.0 in ./.venv/lib/python3.11/site-packages (from -r requirements.txt (line 5)) (21.2.0)\r\n",
      "Requirement already satisfied: arrow==1.2.3 in ./.venv/lib/python3.11/site-packages (from -r requirements.txt (line 6)) (1.2.3)\r\n",
      "Requirement already satisfied: asttokens==2.4.0 in ./.venv/lib/python3.11/site-packages (from -r requirements.txt (line 7)) (2.4.0)\r\n",
      "Requirement already satisfied: async-lru==2.0.4 in ./.venv/lib/python3.11/site-packages (from -r requirements.txt (line 8)) (2.0.4)\r\n",
      "Requirement already satisfied: attrs==23.1.0 in ./.venv/lib/python3.11/site-packages (from -r requirements.txt (line 9)) (23.1.0)\r\n",
      "Requirement already satisfied: Babel==2.12.1 in ./.venv/lib/python3.11/site-packages (from -r requirements.txt (line 10)) (2.12.1)\r\n",
      "Requirement already satisfied: backcall==0.2.0 in ./.venv/lib/python3.11/site-packages (from -r requirements.txt (line 11)) (0.2.0)\r\n",
      "Requirement already satisfied: beautifulsoup4==4.12.2 in ./.venv/lib/python3.11/site-packages (from -r requirements.txt (line 12)) (4.12.2)\r\n",
      "Requirement already satisfied: black==23.9.1 in ./.venv/lib/python3.11/site-packages (from -r requirements.txt (line 13)) (23.9.1)\r\n",
      "Requirement already satisfied: bleach==6.0.0 in ./.venv/lib/python3.11/site-packages (from -r requirements.txt (line 14)) (6.0.0)\r\n",
      "Requirement already satisfied: certifi==2023.7.22 in ./.venv/lib/python3.11/site-packages (from -r requirements.txt (line 15)) (2023.7.22)\r\n",
      "Requirement already satisfied: cffi==1.16.0 in ./.venv/lib/python3.11/site-packages (from -r requirements.txt (line 16)) (1.16.0)\r\n",
      "Requirement already satisfied: charset-normalizer==3.3.0 in ./.venv/lib/python3.11/site-packages (from -r requirements.txt (line 17)) (3.3.0)\r\n",
      "Requirement already satisfied: click==8.1.7 in ./.venv/lib/python3.11/site-packages (from -r requirements.txt (line 18)) (8.1.7)\r\n",
      "Requirement already satisfied: comm==0.1.4 in ./.venv/lib/python3.11/site-packages (from -r requirements.txt (line 19)) (0.1.4)\r\n",
      "Requirement already satisfied: contourpy==1.1.1 in ./.venv/lib/python3.11/site-packages (from -r requirements.txt (line 20)) (1.1.1)\r\n",
      "Requirement already satisfied: coverage==7.3.1 in ./.venv/lib/python3.11/site-packages (from -r requirements.txt (line 21)) (7.3.1)\r\n",
      "Requirement already satisfied: cycler==0.12.0 in ./.venv/lib/python3.11/site-packages (from -r requirements.txt (line 22)) (0.12.0)\r\n",
      "Requirement already satisfied: Cython==3.0.2 in ./.venv/lib/python3.11/site-packages (from -r requirements.txt (line 23)) (3.0.2)\r\n",
      "Requirement already satisfied: debugpy==1.8.0 in ./.venv/lib/python3.11/site-packages (from -r requirements.txt (line 24)) (1.8.0)\r\n",
      "Requirement already satisfied: decorator==5.1.1 in ./.venv/lib/python3.11/site-packages (from -r requirements.txt (line 25)) (5.1.1)\r\n",
      "Requirement already satisfied: defusedxml==0.7.1 in ./.venv/lib/python3.11/site-packages (from -r requirements.txt (line 26)) (0.7.1)\r\n",
      "Requirement already satisfied: docutils==0.20.1 in ./.venv/lib/python3.11/site-packages (from -r requirements.txt (line 27)) (0.20.1)\r\n",
      "Requirement already satisfied: executing==2.0.0 in ./.venv/lib/python3.11/site-packages (from -r requirements.txt (line 28)) (2.0.0)\r\n",
      "Requirement already satisfied: fastjsonschema==2.18.0 in ./.venv/lib/python3.11/site-packages (from -r requirements.txt (line 29)) (2.18.0)\r\n",
      "Requirement already satisfied: fonttools==4.43.0 in ./.venv/lib/python3.11/site-packages (from -r requirements.txt (line 30)) (4.43.0)\r\n",
      "Requirement already satisfied: fqdn==1.5.1 in ./.venv/lib/python3.11/site-packages (from -r requirements.txt (line 31)) (1.5.1)\r\n",
      "Requirement already satisfied: idna==3.4 in ./.venv/lib/python3.11/site-packages (from -r requirements.txt (line 32)) (3.4)\r\n",
      "Requirement already satisfied: imageio==2.31.4 in ./.venv/lib/python3.11/site-packages (from -r requirements.txt (line 33)) (2.31.4)\r\n",
      "Requirement already satisfied: imagesize==1.4.1 in ./.venv/lib/python3.11/site-packages (from -r requirements.txt (line 34)) (1.4.1)\r\n",
      "Requirement already satisfied: iniconfig==2.0.0 in ./.venv/lib/python3.11/site-packages (from -r requirements.txt (line 35)) (2.0.0)\r\n",
      "Requirement already satisfied: ipykernel==6.25.2 in ./.venv/lib/python3.11/site-packages (from -r requirements.txt (line 36)) (6.25.2)\r\n",
      "Requirement already satisfied: ipython==8.16.0 in ./.venv/lib/python3.11/site-packages (from -r requirements.txt (line 37)) (8.16.0)\r\n",
      "Requirement already satisfied: ipywidgets==8.1.1 in ./.venv/lib/python3.11/site-packages (from -r requirements.txt (line 38)) (8.1.1)\r\n",
      "Requirement already satisfied: isoduration==20.11.0 in ./.venv/lib/python3.11/site-packages (from -r requirements.txt (line 39)) (20.11.0)\r\n",
      "Requirement already satisfied: jedi==0.19.0 in ./.venv/lib/python3.11/site-packages (from -r requirements.txt (line 40)) (0.19.0)\r\n",
      "Requirement already satisfied: Jinja2==3.1.2 in ./.venv/lib/python3.11/site-packages (from -r requirements.txt (line 41)) (3.1.2)\r\n",
      "Requirement already satisfied: joblib==1.3.2 in ./.venv/lib/python3.11/site-packages (from -r requirements.txt (line 42)) (1.3.2)\r\n",
      "Requirement already satisfied: json5==0.9.14 in ./.venv/lib/python3.11/site-packages (from -r requirements.txt (line 43)) (0.9.14)\r\n",
      "Requirement already satisfied: jsonpointer==2.4 in ./.venv/lib/python3.11/site-packages (from -r requirements.txt (line 44)) (2.4)\r\n",
      "Requirement already satisfied: jsonschema==4.19.1 in ./.venv/lib/python3.11/site-packages (from -r requirements.txt (line 45)) (4.19.1)\r\n",
      "Requirement already satisfied: jsonschema-specifications==2023.7.1 in ./.venv/lib/python3.11/site-packages (from -r requirements.txt (line 46)) (2023.7.1)\r\n",
      "Requirement already satisfied: jupyter-events==0.7.0 in ./.venv/lib/python3.11/site-packages (from -r requirements.txt (line 47)) (0.7.0)\r\n",
      "Requirement already satisfied: jupyter-lsp==2.2.0 in ./.venv/lib/python3.11/site-packages (from -r requirements.txt (line 48)) (2.2.0)\r\n",
      "Requirement already satisfied: jupyter_client==8.3.1 in ./.venv/lib/python3.11/site-packages (from -r requirements.txt (line 49)) (8.3.1)\r\n",
      "Requirement already satisfied: jupyter_core==5.3.2 in ./.venv/lib/python3.11/site-packages (from -r requirements.txt (line 50)) (5.3.2)\r\n",
      "Requirement already satisfied: jupyter_server==2.7.3 in ./.venv/lib/python3.11/site-packages (from -r requirements.txt (line 51)) (2.7.3)\r\n",
      "Requirement already satisfied: jupyter_server_terminals==0.4.4 in ./.venv/lib/python3.11/site-packages (from -r requirements.txt (line 52)) (0.4.4)\r\n",
      "Requirement already satisfied: jupyterlab==4.0.6 in ./.venv/lib/python3.11/site-packages (from -r requirements.txt (line 53)) (4.0.6)\r\n",
      "Requirement already satisfied: jupyterlab-pygments==0.2.2 in ./.venv/lib/python3.11/site-packages (from -r requirements.txt (line 54)) (0.2.2)\r\n",
      "Requirement already satisfied: jupyterlab-widgets==3.0.9 in ./.venv/lib/python3.11/site-packages (from -r requirements.txt (line 55)) (3.0.9)\r\n",
      "Requirement already satisfied: jupyterlab_server==2.25.0 in ./.venv/lib/python3.11/site-packages (from -r requirements.txt (line 56)) (2.25.0)\r\n",
      "Requirement already satisfied: kiwisolver==1.4.5 in ./.venv/lib/python3.11/site-packages (from -r requirements.txt (line 57)) (1.4.5)\r\n",
      "Requirement already satisfied: lazy_loader==0.3 in ./.venv/lib/python3.11/site-packages (from -r requirements.txt (line 58)) (0.3)\r\n",
      "Requirement already satisfied: MarkupSafe==2.1.3 in ./.venv/lib/python3.11/site-packages (from -r requirements.txt (line 59)) (2.1.3)\r\n",
      "Requirement already satisfied: matplotlib==3.8.0 in ./.venv/lib/python3.11/site-packages (from -r requirements.txt (line 60)) (3.8.0)\r\n",
      "Requirement already satisfied: matplotlib-inline==0.1.6 in ./.venv/lib/python3.11/site-packages (from -r requirements.txt (line 61)) (0.1.6)\r\n",
      "Requirement already satisfied: mistune==3.0.2 in ./.venv/lib/python3.11/site-packages (from -r requirements.txt (line 62)) (3.0.2)\r\n",
      "Requirement already satisfied: mypy==1.5.1 in ./.venv/lib/python3.11/site-packages (from -r requirements.txt (line 63)) (1.5.1)\r\n",
      "Requirement already satisfied: mypy-extensions==1.0.0 in ./.venv/lib/python3.11/site-packages (from -r requirements.txt (line 64)) (1.0.0)\r\n",
      "Requirement already satisfied: nbclient==0.8.0 in ./.venv/lib/python3.11/site-packages (from -r requirements.txt (line 65)) (0.8.0)\r\n",
      "Requirement already satisfied: nbconvert==7.8.0 in ./.venv/lib/python3.11/site-packages (from -r requirements.txt (line 66)) (7.8.0)\r\n",
      "Requirement already satisfied: nbformat==5.9.2 in ./.venv/lib/python3.11/site-packages (from -r requirements.txt (line 67)) (5.9.2)\r\n",
      "Requirement already satisfied: nest-asyncio==1.5.8 in ./.venv/lib/python3.11/site-packages (from -r requirements.txt (line 68)) (1.5.8)\r\n",
      "Requirement already satisfied: networkx==3.1 in ./.venv/lib/python3.11/site-packages (from -r requirements.txt (line 69)) (3.1)\r\n",
      "Requirement already satisfied: notebook==7.0.4 in ./.venv/lib/python3.11/site-packages (from -r requirements.txt (line 70)) (7.0.4)\r\n",
      "Requirement already satisfied: notebook_shim==0.2.3 in ./.venv/lib/python3.11/site-packages (from -r requirements.txt (line 71)) (0.2.3)\r\n",
      "Requirement already satisfied: numpy==1.26.0 in ./.venv/lib/python3.11/site-packages (from -r requirements.txt (line 72)) (1.26.0)\r\n",
      "Requirement already satisfied: numpydoc==1.6.0 in ./.venv/lib/python3.11/site-packages (from -r requirements.txt (line 73)) (1.6.0)\r\n",
      "Requirement already satisfied: overrides==7.4.0 in ./.venv/lib/python3.11/site-packages (from -r requirements.txt (line 74)) (7.4.0)\r\n",
      "Requirement already satisfied: packaging==23.1 in ./.venv/lib/python3.11/site-packages (from -r requirements.txt (line 75)) (23.1)\r\n",
      "Requirement already satisfied: pandas==2.1.1 in ./.venv/lib/python3.11/site-packages (from -r requirements.txt (line 76)) (2.1.1)\r\n",
      "Requirement already satisfied: pandocfilters==1.5.0 in ./.venv/lib/python3.11/site-packages (from -r requirements.txt (line 77)) (1.5.0)\r\n",
      "Requirement already satisfied: parso==0.8.3 in ./.venv/lib/python3.11/site-packages (from -r requirements.txt (line 78)) (0.8.3)\r\n",
      "Requirement already satisfied: pathspec==0.11.2 in ./.venv/lib/python3.11/site-packages (from -r requirements.txt (line 79)) (0.11.2)\r\n",
      "Requirement already satisfied: pexpect==4.8.0 in ./.venv/lib/python3.11/site-packages (from -r requirements.txt (line 80)) (4.8.0)\r\n",
      "Requirement already satisfied: pickleshare==0.7.5 in ./.venv/lib/python3.11/site-packages (from -r requirements.txt (line 81)) (0.7.5)\r\n",
      "Requirement already satisfied: Pillow==10.0.1 in ./.venv/lib/python3.11/site-packages (from -r requirements.txt (line 82)) (10.0.1)\r\n",
      "Requirement already satisfied: platformdirs==3.10.0 in ./.venv/lib/python3.11/site-packages (from -r requirements.txt (line 83)) (3.10.0)\r\n",
      "Requirement already satisfied: plotly==5.17.0 in ./.venv/lib/python3.11/site-packages (from -r requirements.txt (line 84)) (5.17.0)\r\n",
      "Requirement already satisfied: pluggy==1.3.0 in ./.venv/lib/python3.11/site-packages (from -r requirements.txt (line 85)) (1.3.0)\r\n",
      "Requirement already satisfied: pooch==1.7.0 in ./.venv/lib/python3.11/site-packages (from -r requirements.txt (line 86)) (1.7.0)\r\n",
      "Requirement already satisfied: prometheus-client==0.17.1 in ./.venv/lib/python3.11/site-packages (from -r requirements.txt (line 87)) (0.17.1)\r\n",
      "Requirement already satisfied: prompt-toolkit==3.0.39 in ./.venv/lib/python3.11/site-packages (from -r requirements.txt (line 88)) (3.0.39)\r\n",
      "Requirement already satisfied: psutil==5.9.5 in ./.venv/lib/python3.11/site-packages (from -r requirements.txt (line 89)) (5.9.5)\r\n",
      "Requirement already satisfied: ptyprocess==0.7.0 in ./.venv/lib/python3.11/site-packages (from -r requirements.txt (line 90)) (0.7.0)\r\n",
      "Requirement already satisfied: pure-eval==0.2.2 in ./.venv/lib/python3.11/site-packages (from -r requirements.txt (line 91)) (0.2.2)\r\n",
      "Requirement already satisfied: pycparser==2.21 in ./.venv/lib/python3.11/site-packages (from -r requirements.txt (line 92)) (2.21)\r\n",
      "Requirement already satisfied: Pygments==2.16.1 in ./.venv/lib/python3.11/site-packages (from -r requirements.txt (line 93)) (2.16.1)\r\n",
      "Requirement already satisfied: pyparsing==3.1.1 in ./.venv/lib/python3.11/site-packages (from -r requirements.txt (line 94)) (3.1.1)\r\n",
      "Requirement already satisfied: pytest==7.4.2 in ./.venv/lib/python3.11/site-packages (from -r requirements.txt (line 95)) (7.4.2)\r\n",
      "Requirement already satisfied: pytest-cov==4.1.0 in ./.venv/lib/python3.11/site-packages (from -r requirements.txt (line 96)) (4.1.0)\r\n",
      "Requirement already satisfied: python-dateutil==2.8.2 in ./.venv/lib/python3.11/site-packages (from -r requirements.txt (line 97)) (2.8.2)\r\n",
      "Requirement already satisfied: python-json-logger==2.0.7 in ./.venv/lib/python3.11/site-packages (from -r requirements.txt (line 98)) (2.0.7)\r\n",
      "Requirement already satisfied: pytz==2023.3.post1 in ./.venv/lib/python3.11/site-packages (from -r requirements.txt (line 99)) (2023.3.post1)\r\n",
      "Requirement already satisfied: PyWavelets==1.4.1 in ./.venv/lib/python3.11/site-packages (from -r requirements.txt (line 100)) (1.4.1)\r\n",
      "Requirement already satisfied: PyYAML==6.0.1 in ./.venv/lib/python3.11/site-packages (from -r requirements.txt (line 101)) (6.0.1)\r\n",
      "Requirement already satisfied: pyzmq==25.1.1 in ./.venv/lib/python3.11/site-packages (from -r requirements.txt (line 102)) (25.1.1)\r\n",
      "Requirement already satisfied: referencing==0.30.2 in ./.venv/lib/python3.11/site-packages (from -r requirements.txt (line 103)) (0.30.2)\r\n",
      "Requirement already satisfied: requests==2.31.0 in ./.venv/lib/python3.11/site-packages (from -r requirements.txt (line 104)) (2.31.0)\r\n",
      "Requirement already satisfied: rfc3339-validator==0.1.4 in ./.venv/lib/python3.11/site-packages (from -r requirements.txt (line 105)) (0.1.4)\r\n",
      "Requirement already satisfied: rfc3986-validator==0.1.1 in ./.venv/lib/python3.11/site-packages (from -r requirements.txt (line 106)) (0.1.1)\r\n",
      "Requirement already satisfied: rpds-py==0.10.3 in ./.venv/lib/python3.11/site-packages (from -r requirements.txt (line 107)) (0.10.3)\r\n",
      "Requirement already satisfied: ruff==0.0.291 in ./.venv/lib/python3.11/site-packages (from -r requirements.txt (line 108)) (0.0.291)\r\n",
      "Requirement already satisfied: scikit-image==0.21.0 in ./.venv/lib/python3.11/site-packages (from -r requirements.txt (line 109)) (0.21.0)\r\n",
      "Requirement already satisfied: scikit-learn==1.3.1 in ./.venv/lib/python3.11/site-packages (from -r requirements.txt (line 110)) (1.3.1)\r\n",
      "Requirement already satisfied: scipy==1.11.3 in ./.venv/lib/python3.11/site-packages (from -r requirements.txt (line 111)) (1.11.3)\r\n",
      "Requirement already satisfied: seaborn==0.13.0 in ./.venv/lib/python3.11/site-packages (from -r requirements.txt (line 112)) (0.13.0)\r\n",
      "Requirement already satisfied: Send2Trash==1.8.2 in ./.venv/lib/python3.11/site-packages (from -r requirements.txt (line 113)) (1.8.2)\r\n",
      "Requirement already satisfied: six==1.16.0 in ./.venv/lib/python3.11/site-packages (from -r requirements.txt (line 114)) (1.16.0)\r\n",
      "Requirement already satisfied: sniffio==1.3.0 in ./.venv/lib/python3.11/site-packages (from -r requirements.txt (line 115)) (1.3.0)\r\n",
      "Requirement already satisfied: snowballstemmer==2.2.0 in ./.venv/lib/python3.11/site-packages (from -r requirements.txt (line 116)) (2.2.0)\r\n",
      "Requirement already satisfied: soupsieve==2.5 in ./.venv/lib/python3.11/site-packages (from -r requirements.txt (line 117)) (2.5)\r\n",
      "Requirement already satisfied: Sphinx==7.2.6 in ./.venv/lib/python3.11/site-packages (from -r requirements.txt (line 118)) (7.2.6)\r\n",
      "Requirement already satisfied: sphinx-copybutton==0.5.2 in ./.venv/lib/python3.11/site-packages (from -r requirements.txt (line 119)) (0.5.2)\r\n",
      "Requirement already satisfied: sphinx-gallery==0.14.0 in ./.venv/lib/python3.11/site-packages (from -r requirements.txt (line 120)) (0.14.0)\r\n",
      "Requirement already satisfied: sphinx-prompt==1.8.0 in ./.venv/lib/python3.11/site-packages (from -r requirements.txt (line 121)) (1.8.0)\r\n",
      "Requirement already satisfied: sphinxcontrib-applehelp==1.0.7 in ./.venv/lib/python3.11/site-packages (from -r requirements.txt (line 122)) (1.0.7)\r\n",
      "Requirement already satisfied: sphinxcontrib-devhelp==1.0.5 in ./.venv/lib/python3.11/site-packages (from -r requirements.txt (line 123)) (1.0.5)\r\n",
      "Requirement already satisfied: sphinxcontrib-htmlhelp==2.0.4 in ./.venv/lib/python3.11/site-packages (from -r requirements.txt (line 124)) (2.0.4)\r\n",
      "Requirement already satisfied: sphinxcontrib-jsmath==1.0.1 in ./.venv/lib/python3.11/site-packages (from -r requirements.txt (line 125)) (1.0.1)\r\n",
      "Requirement already satisfied: sphinxcontrib-qthelp==1.0.6 in ./.venv/lib/python3.11/site-packages (from -r requirements.txt (line 126)) (1.0.6)\r\n",
      "Requirement already satisfied: sphinxcontrib-serializinghtml==1.1.9 in ./.venv/lib/python3.11/site-packages (from -r requirements.txt (line 127)) (1.1.9)\r\n",
      "Requirement already satisfied: sphinxext-opengraph==0.8.2 in ./.venv/lib/python3.11/site-packages (from -r requirements.txt (line 128)) (0.8.2)\r\n",
      "Requirement already satisfied: stack-data==0.6.3 in ./.venv/lib/python3.11/site-packages (from -r requirements.txt (line 129)) (0.6.3)\r\n",
      "Requirement already satisfied: tabulate==0.9.0 in ./.venv/lib/python3.11/site-packages (from -r requirements.txt (line 130)) (0.9.0)\r\n",
      "Requirement already satisfied: tenacity==8.2.3 in ./.venv/lib/python3.11/site-packages (from -r requirements.txt (line 131)) (8.2.3)\r\n",
      "Requirement already satisfied: terminado==0.17.1 in ./.venv/lib/python3.11/site-packages (from -r requirements.txt (line 132)) (0.17.1)\r\n",
      "Requirement already satisfied: threadpoolctl==3.2.0 in ./.venv/lib/python3.11/site-packages (from -r requirements.txt (line 133)) (3.2.0)\r\n",
      "Requirement already satisfied: tifffile==2023.9.26 in ./.venv/lib/python3.11/site-packages (from -r requirements.txt (line 134)) (2023.9.26)\r\n",
      "Requirement already satisfied: tinycss2==1.2.1 in ./.venv/lib/python3.11/site-packages (from -r requirements.txt (line 135)) (1.2.1)\r\n",
      "Requirement already satisfied: tornado==6.3.3 in ./.venv/lib/python3.11/site-packages (from -r requirements.txt (line 136)) (6.3.3)\r\n",
      "Requirement already satisfied: traitlets==5.10.1 in ./.venv/lib/python3.11/site-packages (from -r requirements.txt (line 137)) (5.10.1)\r\n",
      "Requirement already satisfied: typing_extensions==4.8.0 in ./.venv/lib/python3.11/site-packages (from -r requirements.txt (line 138)) (4.8.0)\r\n",
      "Requirement already satisfied: tzdata==2023.3 in ./.venv/lib/python3.11/site-packages (from -r requirements.txt (line 139)) (2023.3)\r\n",
      "Requirement already satisfied: uri-template==1.3.0 in ./.venv/lib/python3.11/site-packages (from -r requirements.txt (line 140)) (1.3.0)\r\n",
      "Requirement already satisfied: urllib3==2.0.5 in ./.venv/lib/python3.11/site-packages (from -r requirements.txt (line 141)) (2.0.5)\r\n",
      "Requirement already satisfied: wcwidth==0.2.8 in ./.venv/lib/python3.11/site-packages (from -r requirements.txt (line 142)) (0.2.8)\r\n",
      "Requirement already satisfied: webcolors==1.13 in ./.venv/lib/python3.11/site-packages (from -r requirements.txt (line 143)) (1.13)\r\n",
      "Requirement already satisfied: webencodings==0.5.1 in ./.venv/lib/python3.11/site-packages (from -r requirements.txt (line 144)) (0.5.1)\r\n",
      "Requirement already satisfied: websocket-client==1.6.3 in ./.venv/lib/python3.11/site-packages (from -r requirements.txt (line 145)) (1.6.3)\r\n",
      "Requirement already satisfied: widgetsnbextension==4.0.9 in ./.venv/lib/python3.11/site-packages (from -r requirements.txt (line 146)) (4.0.9)\r\n",
      "\r\n",
      "\u001B[1m[\u001B[0m\u001B[34;49mnotice\u001B[0m\u001B[1;39;49m]\u001B[0m\u001B[39;49m A new release of pip is available: \u001B[0m\u001B[31;49m23.0.1\u001B[0m\u001B[39;49m -> \u001B[0m\u001B[32;49m23.2.1\u001B[0m\r\n",
      "\u001B[1m[\u001B[0m\u001B[34;49mnotice\u001B[0m\u001B[1;39;49m]\u001B[0m\u001B[39;49m To update, run: \u001B[0m\u001B[32;49mpip install --upgrade pip\u001B[0m\r\n",
      "Note: you may need to restart the kernel to use updated packages.\n"
     ]
    }
   ],
   "source": [
    "%pip install -r requirements.txt"
   ],
   "metadata": {
    "collapsed": false,
    "ExecuteTime": {
     "start_time": "2023-10-01T04:04:30.419429Z"
    }
   },
   "id": "aafceae108f9c26a"
  },
  {
   "cell_type": "code",
   "execution_count": 10,
   "outputs": [],
   "source": [
    "a = 6\n",
    "b = 7\n"
   ],
   "metadata": {
    "collapsed": false,
    "ExecuteTime": {
     "end_time": "2023-10-01T04:32:28.717379Z",
     "start_time": "2023-10-01T04:32:28.709776Z"
    }
   },
   "id": "3508c51799ccff6a"
  },
  {
   "cell_type": "code",
   "execution_count": 11,
   "outputs": [],
   "source": [
    "c = a + b"
   ],
   "metadata": {
    "collapsed": false,
    "ExecuteTime": {
     "end_time": "2023-10-01T04:32:29.031215Z",
     "start_time": "2023-10-01T04:32:29.026157Z"
    }
   },
   "id": "8198742177537a52"
  },
  {
   "cell_type": "code",
   "execution_count": 12,
   "outputs": [
    {
     "data": {
      "text/plain": "169"
     },
     "execution_count": 12,
     "metadata": {},
     "output_type": "execute_result"
    }
   ],
   "source": [
    "c**2"
   ],
   "metadata": {
    "collapsed": false,
    "ExecuteTime": {
     "end_time": "2023-10-01T04:32:29.428300Z",
     "start_time": "2023-10-01T04:32:29.418497Z"
    }
   },
   "id": "2a1e7f3c4d7b674d"
  },
  {
   "cell_type": "code",
   "execution_count": null,
   "outputs": [],
   "source": [],
   "metadata": {
    "collapsed": false
   },
   "id": "7a45b8abfbb99e50"
  }
 ],
 "metadata": {
  "kernelspec": {
   "display_name": "Python 3",
   "language": "python",
   "name": "python3"
  },
  "language_info": {
   "codemirror_mode": {
    "name": "ipython",
    "version": 2
   },
   "file_extension": ".py",
   "mimetype": "text/x-python",
   "name": "python",
   "nbconvert_exporter": "python",
   "pygments_lexer": "ipython2",
   "version": "2.7.6"
  }
 },
 "nbformat": 4,
 "nbformat_minor": 5
}
